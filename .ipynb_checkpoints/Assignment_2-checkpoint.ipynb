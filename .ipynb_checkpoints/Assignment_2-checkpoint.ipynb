{
 "cells": [
  {
   "cell_type": "markdown",
   "metadata": {},
   "source": [
    "# 1.What are the two values of the Boolean data type? How do you write them?\n",
    "\n",
    "Ans) The two values of the Boolean Data type are \"True\" and \"False\". We can either assign it as values or compare it.\n",
    "for Ex - \n",
    "Assignment - a = True\n",
    "Comparison - If a == True: print(\"A is True\")"
   ]
  },
  {
   "cell_type": "markdown",
   "metadata": {},
   "source": [
    "# 2. What are the three different types of Boolean operators?\n",
    "\n",
    "Ans) There are three types of Boolean operators:\n",
    "a. The AND Operator (\"&&\" or \"and\")\n",
    "b. The OR Operator (\"||\" or \"or\")\n",
    "c. The NOT Operator (\"not\")"
   ]
  },
  {
   "cell_type": "markdown",
   "metadata": {},
   "source": [
    "# 3. Make a list of each Boolean operator's truth tables (i.e. every possible combination of Boolean values for the operator and what it evaluate ).\n",
    "\n",
    "Ans)The output for each combination of Boolean values with the Boolean operators are:\n",
    "a. AND Operator\n",
    "    True and True = True\n",
    "    True and False = False\n",
    "    False and True = False\n",
    "    False and False = False\n",
    "    \n",
    "b. OR Operator\n",
    "    True or True = True\n",
    "    False or True = True\n",
    "    True or FAlse = True\n",
    "    False or False = False\n",
    "\n",
    "c. NOT Operator\n",
    "    True = False\n",
    "    False = True\n",
    "    "
   ]
  },
  {
   "cell_type": "markdown",
   "metadata": {},
   "source": [
    "# 4. What are the values of the following expressions?\n",
    "\n",
    "Ans)\n",
    "(5 > 4) and (3 == 5) - False\n",
    "not (5 > 4) - False\n",
    "(5 > 4) or (3 == 5) - True\n",
    "not ((5 > 4) or (3 == 5)) - False\n",
    "(True and True) and (True == False) - False\n",
    "(not False) or (not True) - True\n"
   ]
  },
  {
   "cell_type": "markdown",
   "metadata": {},
   "source": [
    "# 5. What are the six comparison operators?\n",
    "\n",
    "Ans) The six comparison operators in python are:\n",
    "a. Less Than Operator (\"<\")\n",
    "b. Greater Than Operator (\">\")\n",
    "c. Less than or Equal to Operator (\"<=\")\n",
    "d. Greater than or Equal to Operator (\">=\")|\n",
    "e. Equal to Operator (\"==\")\n",
    "f. Not Equal Operator (\"!=\")"
   ]
  },
  {
   "cell_type": "markdown",
   "metadata": {},
   "source": [
    "# 6. How do you tell the difference between the equal to and assignment operators?Describe a condition and when you would use one.\n",
    "\n",
    "Ans) Equal to Operator is used when we want to check the value of a particular variable and perform some action basis its value. Whereas assignment operator is used to assign a value to a parameter\n",
    "\n",
    "Example (Assignment) - y= False\n",
    "\n",
    "Example (Equal to) - \n",
    "\n",
    "if y == True:\n",
    "    print(\"I am True\")"
   ]
  },
  {
   "cell_type": "markdown",
   "metadata": {},
   "source": [
    "# 7. Identify the three blocks in this code:\n",
    "\n",
    "Ans)\n",
    "##### Block-1\n",
    "spam = 0\n",
    "if spam == 10:\n",
    "    print('eggs')\n",
    "\n",
    "##### Block-2\n",
    "if spam > 5:\n",
    "    print('bacon')\n",
    "else:\n",
    "    print('ham')\n",
    "\n",
    "##### Block-3\n",
    "print('spam')\n",
    "print('spam')\n"
   ]
  },
  {
   "cell_type": "markdown",
   "metadata": {},
   "source": [
    "# 8. Write code that prints Hello if 1 is stored in spam, prints Howdy if 2 is stored in spam, and prints Greetings! if anything else is stored in spam.\n",
    "\n",
    "Ans) spam = 1\n",
    "if spam ==1:\n",
    "    print(\"Hello\")\n",
    "elif spam == 2:\n",
    "    print(\"Howdy\")\n",
    "else:\n",
    "    print(\"Greetings\")\n"
   ]
  },
  {
   "cell_type": "markdown",
   "metadata": {},
   "source": [
    "# 9.If your programme is stuck in an endless loop, what keys you’ll press?\n",
    "\n",
    "Ans) We can press \"Cntrl + C\" which is the keyboard interrupt or we can press \"Alt +F4\" which closses the window or we can press \"Cntrl + Shift + Esc\" and kill the program in the Task Manager"
   ]
  },
  {
   "cell_type": "markdown",
   "metadata": {},
   "source": [
    "# 10. How can you tell the difference between break and continue?\n",
    "\n",
    "Ans) In case of Break command, the moment the condition is satisfied the cursor moves out of the loop and executes commands that is outside the loop\n",
    "In case of Continue command, the moment the condition is satisfied the cursor moves to the next iteration value of the loop without executing other code in the same loop for that particular value"
   ]
  },
  {
   "cell_type": "markdown",
   "metadata": {},
   "source": [
    "# 11. In a for loop, what is the difference between range(10), range(0, 10), and range(0, 10, 1)?\n",
    "\n",
    "Ans) For a range function the first value is starting point, second value is the ending point and the last value is the jump. If the starting point is not mentioned then the default value of 0 will be taken as starting point. If the jump value is not mentioned then the default jump of 1 is considered."
   ]
  },
  {
   "cell_type": "markdown",
   "metadata": {},
   "source": [
    "# 12. Write a short program that prints the numbers 1 to 10 using a for loop. Then write an equivalent program that prints the numbers 1 to 10 using a while loop.\n",
    "\n",
    "Ans) For Loop\n",
    "for i in range(1,11,1):\n",
    "    print(i)\n",
    "    \n",
    "While Loop\n",
    "i = 1\n",
    "while i < 11:\n",
    "    print(i)\n",
    "    i=i+1\n"
   ]
  },
  {
   "cell_type": "markdown",
   "metadata": {},
   "source": [
    "# 13. If you had a function named bacon() inside a module named spam, how would you call it after importing spam?\n",
    "\n",
    "Ans) import spam\n",
    "spam.bacon()"
   ]
  }
 ],
 "metadata": {
  "kernelspec": {
   "display_name": "Python 3",
   "language": "python",
   "name": "python3"
  },
  "language_info": {
   "codemirror_mode": {
    "name": "ipython",
    "version": 3
   },
   "file_extension": ".py",
   "mimetype": "text/x-python",
   "name": "python",
   "nbconvert_exporter": "python",
   "pygments_lexer": "ipython3",
   "version": "3.8.5"
  }
 },
 "nbformat": 4,
 "nbformat_minor": 4
}

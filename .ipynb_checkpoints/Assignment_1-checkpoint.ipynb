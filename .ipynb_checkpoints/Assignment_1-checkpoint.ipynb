{
 "cells": [
  {
   "cell_type": "markdown",
   "metadata": {},
   "source": [
    "# 1) In the below elements which of them are values or an expression? eg:- values can be integer or string and expressions will be mathematical operators.\n",
    "\n",
    "\n",
    "#### *  - Expression\n",
    "#### 'hello' - Values\n",
    "#### -87.8 - Values\n",
    "#### - - Expression\n",
    "#### / - Expression\n",
    "#### + - Expression\n",
    "#### 6 - Values \n"
   ]
  },
  {
   "cell_type": "markdown",
   "metadata": {},
   "source": [
    "# 2)What is the difference between string and variable?\n",
    "\n",
    "Ans)A string is a value whereas a variable is one in which we can assign values. "
   ]
  },
  {
   "cell_type": "markdown",
   "metadata": {},
   "source": [
    "# 3) Describe three different data types\n",
    "\n",
    "Ans)Different data types in Python are\n",
    "1. Numeric - It represents data which has numeric value. These can be integers(int), floating point numbers(float) or complex numbers (complex)\n",
    "2. Sequence - It is an ordered collection of similar or different data types. They can be string, list or tuples\n",
    "3. Boolean - It can only have either of the two built in values - True or False\n",
    "4. Set - It is an unordered collection of data type that is iterable, mutable and has no duplicate elements. It can be created by using a built in set() function with an iterable object or a sequence by placing the sequence inside curly braces separated by comma.\n",
    "5. Dictionary - It is an unordered collection of data values stored in the key-value pair format\n"
   ]
  },
  {
   "cell_type": "markdown",
   "metadata": {},
   "source": [
    "# 4)What is an expression made up of? What do all expressions do?\n",
    "Ans) An expression is a combination of operators and operands that is interpreted to produce some value. If there is more than one operator in an expression, their precedence decides which operation will be performed first. All expressions do some kind of mathematical or logical computation or comparison. The different types of expression are:\n",
    "1. Constant expression - Expression that have constant value only\n",
    "2. Arithmetic expression - It can be combination of numeric values, operators and sometimes parenthesis\n",
    "3. Integral expression - they produce only integer results after all computations and type conversions\n",
    "4. Floating expression - these are expressions which produce floating point numbers as a result of all computations and conversions\n",
    "5. Relational expression - In these cases arithmatic expressions are written on both sides of relational operators\n",
    "6. Logical expression - These are expressions that result in either True or false\n",
    "7. Bitwise expression - these are expressions where the computations are performed at bit level\n",
    "8. Combinational expression - It can be a mix of multiple expressions in a single expression"
   ]
  },
  {
   "cell_type": "markdown",
   "metadata": {},
   "source": [
    "# 5) This assignment statements, like spam = 10. What is the difference between an expression and a statement?\n",
    "\n",
    "Ans) In the case mentioned here, there is no mathematical computation or logical comparison being done here to arrive at the value of spam. Hence it is statement. If there had been a mathematical operator or a logical comparison then it would have been an expression"
   ]
  },
  {
   "cell_type": "markdown",
   "metadata": {},
   "source": [
    "# 6) After running the following code, what does the variable bacon contain?\n",
    "bacon = 22\n",
    "bacon + 1\n",
    "\n",
    "Ans) The value of bacon will still be 22 because the new values is not stored back to bacon and hence it will contain the old value"
   ]
  },
  {
   "cell_type": "markdown",
   "metadata": {},
   "source": [
    "# 7) What should the values of the following two terms be?\n",
    "'spam' + 'spamspam'\n",
    "'spam' * 3\n",
    "\n",
    "Ans) The output will be the same both the cases. It will be \"spamspamspam\""
   ]
  },
  {
   "cell_type": "markdown",
   "metadata": {},
   "source": [
    "# 8) Why is eggs a valid variable name while 100 is invalid?\n",
    "\n",
    "Ans) In python the first letter of a variable should be a character or Underscore and it cannot start with a number."
   ]
  },
  {
   "cell_type": "markdown",
   "metadata": {},
   "source": [
    "# 9) What three functions can be used to get the integer, floating-point number, or string version of a value?\n",
    "\n",
    "Ans) We can typecast values in the form of integer using int() function, floating point number using float() function and string using str() function"
   ]
  },
  {
   "cell_type": "markdown",
   "metadata": {},
   "source": [
    "# 10)Why does this expression cause an error? How can you fix it?\n",
    "'I have eaten ' + 99 + ' burritos.'\n",
    "\n",
    "Ans) Because we are trying to add a numerical value to a string. + sign when used with strings mean they are used for concatentaion and that can only be done between two strings in this case"
   ]
  },
  {
   "cell_type": "code",
   "execution_count": null,
   "metadata": {},
   "outputs": [],
   "source": []
  }
 ],
 "metadata": {
  "kernelspec": {
   "display_name": "Python 3",
   "language": "python",
   "name": "python3"
  },
  "language_info": {
   "codemirror_mode": {
    "name": "ipython",
    "version": 3
   },
   "file_extension": ".py",
   "mimetype": "text/x-python",
   "name": "python",
   "nbconvert_exporter": "python",
   "pygments_lexer": "ipython3",
   "version": "3.8.5"
  }
 },
 "nbformat": 4,
 "nbformat_minor": 4
}
